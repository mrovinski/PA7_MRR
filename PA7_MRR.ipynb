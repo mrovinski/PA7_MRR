{
 "cells": [
  {
   "cell_type": "markdown",
   "metadata": {},
   "source": [
    "# Programming Assignment 7\n",
    "\n",
    "**Author:** Molly Rovinski \n",
    "**Version:** 1.0\n",
    "**Semester:** Fall 2020"
   ]
  },
  {
   "cell_type": "markdown",
   "metadata": {},
   "source": [
    "**Problem A:** Write a script that reads a five letter word and produces every possible three letter string based on the word's letters. "
   ]
  },
  {
   "cell_type": "code",
   "execution_count": null,
   "metadata": {},
   "outputs": [],
   "source": [
    "from itertools import permutations\n",
    "word = input(\"Enter a five-letter word (Enter zero (0) to quit): \")\n",
    "while word != '0':\n",
    "    if (len(word) != 5):\n",
    "        print (\"Word must be five letters long!\")\n",
    "    else:\n",
    "        l = list(permutations(word, 3))\n",
    "        for x in range (len (l)):\n",
    "            str1 = \"\"\n",
    "            print (str1.join(l[x]))\n",
    "    word = input(\"Enter a five-letter word (Enter zero (0) to quit): \")\n",
    "    "
   ]
  },
  {
   "cell_type": "markdown",
   "metadata": {},
   "source": [
    "**Problem B:** Write a script that enables the user to enter a mathematical word problem then uses string processing to break the sring aprt, map it to the appropriate numbers, and print the numerical version with the answer."
   ]
  },
  {
   "cell_type": "code",
   "execution_count": 29,
   "metadata": {},
   "outputs": [
    {
     "name": "stdout",
     "output_type": "stream",
     "text": [
      "Enter simple arithmetic expression in words (Enter zero (0) to quit): five times seven\n",
      "5  x  7  =  35\n",
      "Enter simple arithmetic expression in words (Enter zero (0) to quit): two minus one\n",
      "2  -  1  =  1\n",
      "Enter simple arithmetic expression in words (Enter zero (0) to quit): three plus seven\n",
      "3  +  7  =  10\n",
      "Enter simple arithmetic expression in words (Enter zero (0) to quit): eight dividedby two\n",
      "8  /  2  =  4.0\n",
      "Enter simple arithmetic expression in words (Enter zero (0) to quit): seven greater than eight\n",
      "I cannot evaluate this expression!\n",
      "Enter simple arithmetic expression in words (Enter zero (0) to quit): 0\n"
     ]
    }
   ],
   "source": [
    "numbers = {'nine':9, 'eight':8, 'seven':7, 'six':6, 'five':5, 'four':4, 'three':3, 'two':2, 'one':1, 'zero':0}\n",
    "problem = input(\"Enter simple arithmetic expression in words (Enter zero (0) to quit): \")\n",
    "while problem != '0':\n",
    "    a = problem.split()\n",
    "    mid = a[1:len(a)-1]\n",
    "    operation = ''.join(mid)\n",
    "    if operation == 'plus':\n",
    "        print(numbers[a[0]], \" + \", numbers[a[len(a)-1]], \" = \", numbers[a[0]] + numbers[a[len(a)-1]])\n",
    "    elif operation == 'minus':\n",
    "        print(numbers[a[0]], \" - \", numbers[a[len(a)-1]], \" = \", numbers[a[0]] - numbers[a[len(a)-1]])\n",
    "    elif operation == 'times':\n",
    "        print(numbers[a[0]], \" x \", numbers[a[len(a)-1]], \" = \", numbers[a[0]] * numbers[a[len(a)-1]])\n",
    "    elif operation == 'dividedby':\n",
    "        print(numbers[a[0]], \" / \", numbers[a[len(a)-1]], \" = \", numbers[a[0]] / numbers[a[len(a)-1]])\n",
    "    else:\n",
    "        print(\"I cannot evaluate this expression!\")\n",
    "    problem = input(\"Enter simple arithmetic expression in words (Enter zero (0) to quit): \")"
   ]
  }
 ],
 "metadata": {
  "kernelspec": {
   "display_name": "Python 3",
   "language": "python",
   "name": "python3"
  },
  "language_info": {
   "codemirror_mode": {
    "name": "ipython",
    "version": 3
   },
   "file_extension": ".py",
   "mimetype": "text/x-python",
   "name": "python",
   "nbconvert_exporter": "python",
   "pygments_lexer": "ipython3",
   "version": "3.8.3"
  }
 },
 "nbformat": 4,
 "nbformat_minor": 4
}
